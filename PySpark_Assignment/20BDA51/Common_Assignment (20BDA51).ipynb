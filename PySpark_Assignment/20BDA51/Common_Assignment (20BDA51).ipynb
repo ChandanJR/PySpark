{
 "cells": [
  {
   "cell_type": "code",
   "execution_count": 1,
   "metadata": {},
   "outputs": [],
   "source": [
    "import sys\n",
    "\n",
    "from pyspark import SparkContext\n",
    "from pyspark.streaming import StreamingContext\n",
    "import os\n",
    "from datetime import datetime\n",
    "now = datetime.now()\n",
    "import time\n",
    "ts = time.time()"
   ]
  },
  {
   "cell_type": "code",
   "execution_count": 2,
   "metadata": {},
   "outputs": [],
   "source": [
    "#Reciving Host\n",
    "\n",
    "if __name__ == \"__main__\":\n",
    "    # uncomment while running in terminal\n",
    "    # `$ bin/spark-submit examples/src/main/python/streaming/network_wordcount.py localhost 9999`\n",
    "    # if len(sys.argv) != 3:\n",
    "    #     print(\"Usage: network_wordcount.py <hostname> <port>\", file=sys.stderr)\n",
    "    #     sys.exit(-1)\n",
    "    # sys.argv[1], int(sys.argv[2])\n",
    "    hostname = \"localhost\"\n",
    "    port = int(9999)\n",
    "    sc = SparkContext(appName=\"PythonStreamingNetworkWordCount\")\n",
    "    ssc = StreamingContext(sc, 10)"
   ]
  },
  {
   "cell_type": "code",
   "execution_count": null,
   "metadata": {},
   "outputs": [
    {
     "name": "stdout",
     "output_type": "stream",
     "text": [
      "-------------------------------------------\n",
      "Time: 2022-01-10 15:48:40\n",
      "-------------------------------------------\n",
      "\n",
      "-------------------------------------------\n",
      "Time: 2022-01-10 15:48:50\n",
      "-------------------------------------------\n",
      "\n",
      "-------------------------------------------\n",
      "Time: 2022-01-10 15:49:00\n",
      "-------------------------------------------\n",
      "('Welcome', 1)\n",
      "('Home', 1)\n",
      "('Hello', 1)\n",
      "('PySpark', 2)\n",
      "\n",
      "-------------------------------------------\n",
      "Time: 2022-01-10 15:49:10\n",
      "-------------------------------------------\n",
      "\n",
      "-------------------------------------------\n",
      "Time: 2022-01-10 15:49:20\n",
      "-------------------------------------------\n",
      "\n",
      "-------------------------------------------\n",
      "Time: 2022-01-10 15:49:30\n",
      "-------------------------------------------\n",
      "\n",
      "-------------------------------------------\n",
      "Time: 2022-01-10 15:49:40\n",
      "-------------------------------------------\n",
      "('are', 1)\n",
      "('How', 1)\n",
      "('hello', 1)\n",
      "('Hello', 1)\n",
      "('is', 1)\n",
      "('This', 1)\n",
      "('Is', 1)\n",
      "\n",
      "-------------------------------------------\n",
      "Time: 2022-01-10 15:49:50\n",
      "-------------------------------------------\n",
      "\n",
      "-------------------------------------------\n",
      "Time: 2022-01-10 15:50:00\n",
      "-------------------------------------------\n",
      "\n",
      "-------------------------------------------\n",
      "Time: 2022-01-10 15:50:10\n",
      "-------------------------------------------\n",
      "('Welcome', 1)\n",
      "('Home', 2)\n",
      "('', 1)\n",
      "('the', 2)\n",
      "('is', 2)\n",
      "\n",
      "-------------------------------------------\n",
      "Time: 2022-01-10 15:50:20\n",
      "-------------------------------------------\n",
      "\n",
      "-------------------------------------------\n",
      "Time: 2022-01-10 15:50:30\n",
      "-------------------------------------------\n",
      "\n",
      "-------------------------------------------\n",
      "Time: 2022-01-10 15:50:40\n",
      "-------------------------------------------\n",
      "\n"
     ]
    }
   ],
   "source": [
    "#Word Count Program\n",
    "\n",
    "lines = ssc.socketTextStream(hostname, port)\n",
    "counts = lines.flatMap(lambda line: line.split(\" \"))\\\n",
    "                  .map(lambda word: (word, 1))\\\n",
    "                  .reduceByKey(lambda a, b: a+b)\n",
    "counts.pprint()\n",
    "    \n",
    "ssc.start()\n",
    "ssc.awaitTermination()"
   ]
  },
  {
   "cell_type": "code",
   "execution_count": null,
   "metadata": {},
   "outputs": [],
   "source": []
  }
 ],
 "metadata": {
  "kernelspec": {
   "display_name": "Python 3",
   "language": "python",
   "name": "python3"
  },
  "language_info": {
   "codemirror_mode": {
    "name": "ipython",
    "version": 3
   },
   "file_extension": ".py",
   "mimetype": "text/x-python",
   "name": "python",
   "nbconvert_exporter": "python",
   "pygments_lexer": "ipython3",
   "version": "3.8.3"
  }
 },
 "nbformat": 4,
 "nbformat_minor": 4
}
